{
    "metadata": {
        "kernelspec": {
            "name": "python3",
            "display_name": "Python 3 (ipykernel)",
            "language": "python"
        }
    },
    "nbformat": 4,
    "nbformat_minor": 2,
    "cells": [
        {
            "attachments": {},
            "cell_type": "markdown",
            "metadata": {},
            "source": [
                "Add your import statements and the database connection statements in the below code block\n",
                "\n",
                "Database file path = '/course/data/CSE-578/dinofunworld.db'"
            ]
        },
        {
            "cell_type": "code",
            "execution_count": 1,
            "metadata": {},
            "outputs": [],
            "source": [
                "# your code here\n",
                "import sqlite3\n",
                "%matplotlib inline\n",
                "import pandas as pd\n",
                "import matplotlib.pyplot as plt\n",
                "db_filename = '/course/data/CSE-578/dinofunworld.db'\n",
                "conn = sqlite3.connect(db_filename)\n",
                "c = conn.cursor()"
            ]
        },
        {
            "attachments": {},
            "cell_type": "markdown",
            "metadata": {},
            "source": [
                "### **Question 1:**\n",
                "Create a distance matrix suitable for use in hierarchical clustering of the checkin sequences of the 5 specified visitors.\n",
                "\n",
                "Your distance function should count the number of dissimilarities in the sequences without considering any other factors.\n",
                "\n",
                "**Note** \n",
                "* The distance matrix should be reported as a dictionary of dictionaries (eg. {1: {2:0, 3:0, 4:0}, 2: {1:0, 3:0, ...}, ...}).\n",
                "* The order of the output is not important."
            ]
        },
        {
            "cell_type": "code",
            "execution_count": 42,
            "metadata": {},
            "outputs": [
                {
                    "name": "stdout",
                    "output_type": "stream",
                    "text": "{165316: {1835254: 336, 296394: 318, 404385: 329, 448990: 318}, 1835254: {165316: 336, 296394: 282, 404385: 298, 448990: 282}, 296394: {165316: 318, 1835254: 282, 404385: 303, 448990: 0}, 404385: {165316: 329, 1835254: 298, 296394: 303, 448990: 303}, 448990: {165316: 318, 1835254: 282, 296394: 0, 404385: 303}}\n"
                }
            ],
            "source": [
                "### TEST FUNCTION: test_question1\n",
                "# DO NOT REMOVE OR MODIFY THE ABOVE LINE\n",
                "# your code here\n",
                "fiveVisitorsID = ['165316', '1835254', '296394', '404385', '448990']\n",
                "sequences = {}\n",
                "for visitorID in fiveVisitorsID:\n",
                "    query = \"SELECT sequence FROM sequences  WHERE visitorID=\" + visitorID\n",
                "    #print(query)\n",
                "    c.execute(query)\n",
                "    result = c.fetchone()\n",
                "    #print(result)\n",
                "    if result:\n",
                "        tmpresult = result[0].split('-')\n",
                "        sequences[visitorID] = tmpresult\n",
                "\n",
                "#calculate dissimilarity/distance FUNCTION (1 dissimilar = distance + 1)\n",
                "def cal_dist(seqX, seqY):\n",
                "    lenX = len(seqX) #X lenth will equal Y length from discription\n",
                "    dissimilar_count = 0\n",
                "    for i in range(lenX):\n",
                "        if seqX[i] != seqY[i]:\n",
                "            dissimilar_count += 1\n",
                "    return dissimilar_count\n",
                "\n",
                "#distance matrix init\n",
                "distance_matrix = {int(visitorID): {} for visitorID in fiveVisitorsID}\n",
                "#print(distance_matrix)\n",
                "for i, visitorX in enumerate(fiveVisitorsID):\n",
                "    for j, visitorY in enumerate(fiveVisitorsID):\n",
                "        if visitorX != visitorY:\n",
                "            dist = cal_dist(sequences[visitorX], sequences[visitorY])\n",
                "            tmpvisitorX = int(visitorX)\n",
                "            tmpvisitorY = int(visitorY)\n",
                "            distance_matrix[tmpvisitorX][tmpvisitorY] = dist\n",
                "\n",
                "print(distance_matrix)"
            ]
        },
        {
            "attachments": {},
            "cell_type": "markdown",
            "metadata": {},
            "source": [
                "### **Question 2:**  \n",
                "Create and display a Parallel Coordinate Plot displaying the minimum, maximum and average attendance for each ride in the park.\n",
                "\n",
                "For this question, display a Parallel Coordinate Plot in the notebook and print the data used to create a Parallel Coordinate Plot as a dictionary of dictionaries (eg: {  'Ride1' : {min : 1, max : 3, avg : 2 }, 'Ride2' :{ min : 1, max : 3, avg : 2 } ... })\n",
                "\n",
                "**Note:** \n",
                "* Not all attractions are rides.\n",
                "* The output should be a dictionary and the order of the output is not important.\n",
                "* Use the parallel coordinates function from the **pandas library** to generate the graph.\n",
                "* The Parallel Coordinate plot must have the below mentioned parameters,\n",
                "    * legend and it should be outside the plot.\n",
                "    * y-label ('**Attendance**')\n",
                "    * title named '**Ride Attendance - Minimum, Maximum, Average**'\n",
                "* The plot must not have the following parameters,\n",
                "    * do not set figure size\n",
                "    * do not set font size or font-weight for titles and labels"
            ]
        },
        {
            "cell_type": "code",
            "execution_count": 0,
            "metadata": {},
            "outputs": [],
            "source": [
                "### TEST FUNCTION: test_question2\n",
                "# DO NOT REMOVE OR MODIFY THE ABOVE LINE\n",
                "# your code here\n",
                ""
            ]
        },
        {
            "attachments": {},
            "cell_type": "markdown",
            "metadata": {},
            "source": [
                "### **Question 3:**\n",
                "Create and display a Scatterplot Matrix displaying the minimum, maximum and average attendance for each ride in the park.\n",
                "\n",
                "\n",
                "**Note:** \n",
                "* Print the output values of Question 2 as the same data will be used for Scatterplot.\n",
                "* The output should be a dictionary (eg: {  'Ride1' : {min : 1, max : 3, avg : 2 }, 'Ride2' :{ min : 1, max : 3, avg : 2 } ... }) and the order of the output is not important.\n",
                "* This is a different view into the same data as the previous part. Use the scatter plot matrix function from the **pandas library** to generate the graph.\n",
                "* While you work on these plots, consider the different things that each chart says about the data.\n",
                "* The Scatterplot must have the below mentioned parameters,\n",
                "    * title named ' **Scatterplot Matrix - Minimum, Maximum, Average Attendance** '\n",
                "* The plot must not have the following parameters,\n",
                "    * legend\n",
                "    * do not set figure size\n",
                "    * do not set font size or font-weight for titles and labels"
            ]
        },
        {
            "cell_type": "code",
            "execution_count": 0,
            "metadata": {},
            "outputs": [],
            "source": [
                "### TEST FUNCTION: test_question3\n",
                "# DO NOT REMOVE OR MODIFY THE ABOVE LINE\n",
                "# your code here\n",
                ""
            ]
        },
        {
            "cell_type": "code",
            "execution_count": 0,
            "metadata": {},
            "outputs": [],
            "source": [
                ""
            ]
        },
        {
            "cell_type": "code",
            "execution_count": 0,
            "metadata": {},
            "outputs": [],
            "source": [
                ""
            ]
        }
    ]
}
